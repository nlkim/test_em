{
 "cells": [
  {
   "cell_type": "markdown",
   "id": "605895da-da16-4f6e-a71b-8f5746529404",
   "metadata": {},
   "source": [
    "## SDK 초기화 작업\n",
    "설치 방법 참고 : !pip install easymaker==0.0.5b6"
   ]
  },
  {
   "cell_type": "code",
   "execution_count": null,
   "id": "824528b9-acf8-462c-90fd-0334b5b885bd",
   "metadata": {},
   "outputs": [],
   "source": [
    "!pip install easymaker==0.0.5b6"
   ]
  },
  {
   "cell_type": "code",
   "execution_count": null,
   "id": "87e7cc3b-f870-4521-9637-d0af378a9274",
   "metadata": {},
   "outputs": [],
   "source": [
    "import easymaker\n",
    "easymaker.init(\n",
    "    region='kr1',\n",
    "    appkey='fzKXry9rwLAorzbv',\n",
    "    secret_key='rA1O6sxq',\n",
    ")"
   ]
  },
  {
   "cell_type": "markdown",
   "id": "f89e271a-4c2d-40ba-9631-e831221d42c3",
   "metadata": {},
   "source": [
    "## obs에 학습 알고리즘 업로드\n",
    "사전에 obs API 엔드포인트 설정으로 password의 설정이 필요함\n",
    "obs upload, download는 다른 프로젝트도 가능하나, 학습시에는 동일 프로젝트의 obs만 접근이 가능하므로 동일 프로젝트의 obs를 사용"
   ]
  },
  {
   "cell_type": "code",
   "execution_count": null,
   "id": "ec3932d6-c86c-4d6d-85e9-796ea2dcc5a5",
   "metadata": {},
   "outputs": [],
   "source": [
    "obs_src_path='obs://api-storage.cloud.toast.com/v1/AUTH_4f212de6f9504c769170aa6c8ea6d937/sdk/src'\n",
    "easymaker.objectstorage.upload(\n",
    "    easymaker_obs_uri=obs_src_path,\n",
    "    src_dir_path='./mnistsrc',\n",
    "    username='nlkim@nhn.com',\n",
    "    password='em123!@#'\n",
    ")"
   ]
  },
  {
   "cell_type": "markdown",
   "id": "daf81b69-9d3d-4023-95f0-48def043a2bd",
   "metadata": {},
   "source": [
    "## 실험 생성 후 학습"
   ]
  },
  {
   "cell_type": "code",
   "execution_count": null,
   "id": "0ecbf515-7b90-418d-8454-d26e64e7427f",
   "metadata": {},
   "outputs": [],
   "source": [
    "exper_name='experiment_sdk'\n",
    "\n",
    "easymaker.create_experiment(\n",
    "    experiment_name=exper_name,\n",
    "    experiment_description='experiment_sdk',\n",
    "    # wait=False\n",
    ")"
   ]
  },
  {
   "cell_type": "code",
   "execution_count": 55,
   "id": "c13ed809-1c20-4ada-8914-c04e5ed02814",
   "metadata": {},
   "outputs": [
    {
     "name": "stdout",
     "output_type": "stream",
     "text": [
      "Training create status : CREATE_CLUSTER_IN_PROGRESS (0:00:10) Please wait...\n",
      "Training create status : CREATE_CLUSTER_IN_PROGRESS (0:00:20) Please wait...\n",
      "Training create status : CREATE_CLUSTER_IN_PROGRESS (0:00:30) Please wait...\n",
      "Training create status : CREATE_CLUSTER_IN_PROGRESS (0:00:40) Please wait...\n",
      "Training create status : CREATE_CLUSTER_IN_PROGRESS (0:00:50) Please wait...\n",
      "Training create status : CREATE_NODEGROUP_IN_PROGRESS (0:01:00) Please wait...\n",
      "Training create status : CREATE_NODEGROUP_IN_PROGRESS (0:01:10) Please wait...\n",
      "Training create status : CREATE_NODEGROUP_IN_PROGRESS (0:01:20) Please wait...\n",
      "Training create status : CREATE_NODEGROUP_IN_PROGRESS (0:01:30) Please wait...\n",
      "Training create status : CREATE_NODEGROUP_IN_PROGRESS (0:01:40) Please wait...\n",
      "Training create status : CREATE_NODEGROUP_IN_PROGRESS (0:01:50) Please wait...\n",
      "Training create status : CREATE_NODEGROUP_IN_PROGRESS (0:02:00) Please wait...\n",
      "Training create status : CREATE_NODEGROUP_IN_PROGRESS (0:02:10) Please wait...\n",
      "Training create status : CREATE_NODEGROUP_IN_PROGRESS (0:02:20) Please wait...\n",
      "Training create status : CREATE_NODEGROUP_IN_PROGRESS (0:02:30) Please wait...\n",
      "Training create status : CREATE_NODEGROUP_IN_PROGRESS (0:02:40) Please wait...\n",
      "Training create status : CREATE_NODEGROUP_IN_PROGRESS (0:02:50) Please wait...\n",
      "Training create status : CREATE_NODEGROUP_IN_PROGRESS (0:03:00) Please wait...\n",
      "Training create status : CREATE_NODEGROUP_IN_PROGRESS (0:03:10) Please wait...\n",
      "Training create status : CREATE_NODEGROUP_IN_PROGRESS (0:03:20) Please wait...\n",
      "Training create status : CREATE_NODEGROUP_IN_PROGRESS (0:03:30) Please wait...\n",
      "Training create status : CREATE_NODEGROUP_IN_PROGRESS (0:03:40) Please wait...\n",
      "Training create status : CREATE_NODEGROUP_IN_PROGRESS (0:03:50) Please wait...\n",
      "Training create status : CREATE_NODEGROUP_IN_PROGRESS (0:04:00) Please wait...\n",
      "Training create status : CREATE_NODEGROUP_IN_PROGRESS (0:04:10) Please wait...\n",
      "Training create status : CREATE_NODEGROUP_IN_PROGRESS (0:04:20) Please wait...\n",
      "Training create status : CREATE_NODEGROUP_IN_PROGRESS (0:04:30) Please wait...\n",
      "Training create status : CREATE_NODEGROUP_IN_PROGRESS (0:04:40) Please wait...\n",
      "Training create status : CREATE_NODEGROUP_IN_PROGRESS (0:04:50) Please wait...\n",
      "Training create status : CREATE_NODEGROUP_IN_PROGRESS (0:05:00) Please wait...\n",
      "Training create status : CREATE_NODEGROUP_IN_PROGRESS (0:05:10) Please wait...\n",
      "Training create status : CREATE_NODEGROUP_IN_PROGRESS (0:05:20) Please wait...\n",
      "Training create status : CREATE_NODEGROUP_IN_PROGRESS (0:05:30) Please wait...\n",
      "Training create status : CREATE_NODEGROUP_IN_PROGRESS (0:05:40) Please wait...\n",
      "Training create status : CREATE_NODEGROUP_IN_PROGRESS (0:05:50) Please wait...\n",
      "Training create status : CREATE_NAS_IN_PROGRESS (0:06:00) Please wait...\n",
      "Training create status : CREATE_NAS_IN_PROGRESS (0:06:10) Please wait...\n",
      "Training create status : CREATE_NAS_IN_PROGRESS (0:06:20) Please wait...\n",
      "Training create status : RUNNING (0:06:30) Please wait...\n",
      "Training create status : RUNNING (0:06:40) Please wait...\n",
      "Training create status : RUNNING (0:06:50) Please wait...\n",
      "Training create status : RUNNING (0:07:00) Please wait...\n",
      "Training create status : RUNNING (0:07:10) Please wait...\n",
      "Training create status : RUNNING (0:07:20) Please wait...\n",
      "Training create status : RUNNING (0:07:30) Please wait...\n",
      "Training create status : RUNNING (0:07:40) Please wait...\n",
      "Training create status : RUNNING (0:07:50) Please wait...\n",
      "Training create status : RUNNING (0:08:00) Please wait...\n",
      "Training create status : RUNNING (0:08:10) Please wait...\n",
      "Training create status : RUNNING (0:08:20) Please wait...\n",
      "Training create status : RUNNING (0:08:30) Please wait...\n",
      "Training create status : RUNNING (0:08:40) Please wait...\n",
      "Training create status : RUNNING (0:08:50) Please wait...\n",
      "Training create status : RUNNING (0:09:00) Please wait...\n",
      "Training create status : RUNNING (0:09:10) Please wait...\n",
      "Training create status : RUNNING (0:09:20) Please wait...\n",
      "Training create status : RUNNING (0:09:30) Please wait...\n",
      "Training create status : RUNNING (0:09:40) Please wait...\n",
      "Training create status : RUNNING (0:09:50) Please wait...\n",
      "Training create status : RUNNING (0:10:00) Please wait...\n",
      "Training create status : RUNNING (0:10:10) Please wait...\n",
      "Training create status : RUNNING (0:10:20) Please wait...\n",
      "Training create status : RUNNING (0:10:30) Please wait...\n",
      "Training create status : RUNNING (0:10:40) Please wait...\n",
      "Training create status : RUNNING (0:10:50) Please wait...\n",
      "Training create status : RUNNING (0:11:00) Please wait...\n",
      "Training create status : RUNNING (0:11:10) Please wait...\n",
      "Training create status : RUNNING (0:11:20) Please wait...\n",
      "Training create status : RUNNING (0:11:30) Please wait...\n",
      "Training create status : RUNNING (0:11:40) Please wait...\n",
      "Training create status : RUNNING (0:11:50) Please wait...\n",
      "Training create status : RUNNING (0:12:00) Please wait...\n",
      "Training create status : RUNNING (0:12:10) Please wait...\n",
      "Training create status : RUNNING (0:12:20) Please wait...\n",
      "Training create status : RUNNING (0:12:30) Please wait...\n",
      "Training create status : RUNNING (0:12:40) Please wait...\n",
      "Training create status : RUNNING (0:12:50) Please wait...\n",
      "Training create status : RUNNING (0:13:00) Please wait...\n",
      "Training create status : RUNNING (0:13:10) Please wait...\n",
      "Training create status : RUNNING (0:13:20) Please wait...\n",
      "Training create status : RUNNING (0:13:30) Please wait...\n",
      "Training create status : RUNNING (0:13:40) Please wait...\n",
      "Training create status : RUNNING (0:13:50) Please wait...\n",
      "Training create status : RUNNING (0:14:00) Please wait...\n",
      "Training create status : RUNNING (0:14:10) Please wait...\n",
      "Training create status : RUNNING (0:14:20) Please wait...\n",
      "Training create status : RUNNING (0:14:30) Please wait...\n",
      "Training create status : RUNNING (0:14:40) Please wait...\n",
      "Training create status : RUNNING (0:14:50) Please wait...\n",
      "Training create status : RUNNING (0:15:00) Please wait...\n",
      "Training create status : RUNNING (0:15:10) Please wait...\n",
      "Training create status : RUNNING (0:15:20) Please wait...\n",
      "Training create status : RUNNING (0:15:30) Please wait...\n",
      "Training create status : RUNNING (0:15:40) Please wait...\n",
      "Training create status : RUNNING (0:15:50) Please wait...\n",
      "Training create status : RUNNING (0:16:00) Please wait...\n",
      "Training create status : RUNNING (0:16:10) Please wait...\n",
      "Training create status : RUNNING (0:16:20) Please wait...\n",
      "Training create status : RUNNING (0:16:30) Please wait...\n",
      "Training create status : RUNNING (0:16:40) Please wait...\n",
      "Training create status : RUNNING (0:16:50) Please wait...\n",
      "Training create status : RUNNING (0:17:00) Please wait...\n",
      "Training create status : RUNNING (0:17:10) Please wait...\n",
      "Training create status : RUNNING (0:17:20) Please wait...\n",
      "Training create status : CLEAR_IN_PROGRESS (0:17:30) Please wait...\n",
      "Training create status : CLEAR_IN_PROGRESS (0:17:40) Please wait...\n",
      "Training create status : CLEAR_IN_PROGRESS (0:17:50) Please wait...\n",
      "Training create status : CLEAR_IN_PROGRESS (0:18:00) Please wait...\n",
      "Training create status : CLEAR_IN_PROGRESS (0:18:10) Please wait...\n",
      "Training create status : CLEAR_IN_PROGRESS (0:18:20) Please wait...\n",
      "Training create status : CLEAR_IN_PROGRESS (0:18:30) Please wait...\n",
      "Training create status : CLEAR_IN_PROGRESS (0:18:40) Please wait...\n",
      "Training create status : CLEAR_IN_PROGRESS (0:18:50) Please wait...\n"
     ]
    },
    {
     "ename": "EasyMakerError",
     "evalue": "{'header': {'isSuccessful': True, 'resultCode': 0, 'resultMessage': 'SUCCESS'}, 'training': {'trainingId': 'ap449e27lhsk', 'appKey': 'fzKXry9rwLAorzbv', 'trainingName': 'sdk_training_2', 'trainingStatusCode': 'FAILED_TO_TRAIN', 'instanceCount': 1, 'sourceDirUri': 'obs://api-storage.cloud.toast.com/v1/AUTH_4f212de6f9504c769170aa6c8ea6d937/sdk/src', 'modelUploadUri': 'obs://api-storage.cloud.toast.com/v1/AUTH_4f212de6f9504c769170aa6c8ea6d937/sdk/output', 'checkPointUploadUri': 'obs://api-storage.cloud.toast.com/v1/AUTH_4f212de6f9504c769170aa6c8ea6d937/sdk/checkpoint', 'entryPoint': 'mnistfashion.py', 'timeoutMinutes': 60, 'elapsedTimeSeconds': 1062, 'experiment': {'experimentId': 'krnrn0742gkh', 'appKey': 'fzKXry9rwLAorzbv', 'experimentName': 'experiment_sdk', 'description': 'experiment_sdk', 'experimentStatusCode': 'ACTIVE', 'createdDateTime': '2022-09-27T16:45:01+09:00', 'updatedDateTime': '2022-09-27T16:52:38+09:00'}, 'hyperparameterList': [{'hyperparameterKey': 'batch-size', 'hyperparameterValue': '30'}, {'hyperparameterKey': 'epochs', 'hyperparameterValue': '2'}], 'datasetList': [], 'createdDateTime': '2022-09-29T10:41:37+09:00', 'updatedDateTime': '2022-09-29T11:00:44+09:00', 'availabilityZone': 'kr-pub-a', 'flavor': {'id': 'edc79d63-98c3-4b77-a2d4-482d70e6b554', 'name': 'm2.c4m8', 'subTypeName': 'm2', 'flavorType': 'general', 'groupName': 'Standard', 'vcpus': 4, 'ram': 8192, 'disk': 0}, 'image': {'imageId': 'g7sbd9isk3hs', 'imageName': 'Ubuntu 18.04 CPU TensorFlow Training', 'imageTypeCode': 'PUBLIC', 'coreTypeCode': 'CPU', 'frameworkCode': 'TENSORFLOW', 'frameworkVersion': '2.4.1', 'pythonVersion': '3.8', 'groupTypeCode': 'TRAINING', 'imageUrl': '47a6bb45-kr1-registry.container.nhncloud.com/easymaker/tensorflow-train:2.4.1-cpu-py38-ubuntu1804-1.0', 'description': 'v1 CPU', 'createdDateTime': '2022-09-16T00:00:00+09:00', 'updatedDateTime': '2022-09-16T00:00:00+09:00'}, 'bootStorage': {'appKey': 'fzKXry9rwLAorzbv', 'storageSize': 60, 'groupTypeCode': 'TRAINING', 'groupId': 'ap449e27lhsk'}, 'dataStorageList': [{'appKey': 'fzKXry9rwLAorzbv', 'storageSize': 300, 'groupTypeCode': 'TRAINING', 'groupId': 'ap449e27lhsk'}], 'tagList': [{'appKey': 'fzKXry9rwLAorzbv', 'groupTypeCode': 'TRAINING', 'groupId': 'ap449e27lhsk', 'tagKey': 'tag1', 'tagValue': 'test_tag_1'}, {'appKey': 'fzKXry9rwLAorzbv', 'groupTypeCode': 'TRAINING', 'groupId': 'ap449e27lhsk', 'tagKey': 'tag2', 'tagValue': 'test_tag_2'}], 'modelList': []}}",
     "output_type": "error",
     "traceback": [
      "\u001b[0;31m---------------------------------------------------------------------------\u001b[0m",
      "\u001b[0;31mEasyMakerError\u001b[0m                            Traceback (most recent call last)",
      "Input \u001b[0;32mIn [55]\u001b[0m, in \u001b[0;36m<cell line: 1>\u001b[0;34m()\u001b[0m\n\u001b[0;32m----> 1\u001b[0m model \u001b[38;5;241m=\u001b[39m \u001b[43measymaker\u001b[49m\u001b[38;5;241;43m.\u001b[39;49m\u001b[43mTrainingJob\u001b[49m\u001b[43m(\u001b[49m\u001b[43m)\u001b[49m\u001b[38;5;241;43m.\u001b[39;49m\u001b[43mrun\u001b[49m\u001b[43m(\u001b[49m\n\u001b[1;32m      2\u001b[0m \u001b[43m    \u001b[49m\u001b[43mtraining_name\u001b[49m\u001b[38;5;241;43m=\u001b[39;49m\u001b[38;5;124;43m'\u001b[39;49m\u001b[38;5;124;43msdk_training_2\u001b[39;49m\u001b[38;5;124;43m'\u001b[39;49m\u001b[43m,\u001b[49m\n\u001b[1;32m      3\u001b[0m \u001b[43m    \u001b[49m\u001b[43mtraining_description\u001b[49m\u001b[38;5;241;43m=\u001b[39;49m\u001b[38;5;124;43m'\u001b[39;49m\u001b[38;5;124;43measymaker sdk test training\u001b[39;49m\u001b[38;5;124;43m'\u001b[39;49m\u001b[43m,\u001b[49m\n\u001b[1;32m      4\u001b[0m \u001b[43m    \u001b[49m\u001b[43mexperiment_name\u001b[49m\u001b[38;5;241;43m=\u001b[39;49m\u001b[43m \u001b[49m\u001b[43mexper_name\u001b[49m\u001b[43m,\u001b[49m\n\u001b[1;32m      5\u001b[0m \u001b[43m    \u001b[49m\u001b[43mtrain_image_name\u001b[49m\u001b[38;5;241;43m=\u001b[39;49m\u001b[38;5;124;43m'\u001b[39;49m\u001b[38;5;124;43mUbuntu 18.04 CPU TensorFlow Training\u001b[39;49m\u001b[38;5;124;43m'\u001b[39;49m\u001b[43m,\u001b[49m\n\u001b[1;32m      6\u001b[0m \u001b[43m    \u001b[49m\u001b[43mtrain_flavor_name\u001b[49m\u001b[38;5;241;43m=\u001b[39;49m\u001b[38;5;124;43m'\u001b[39;49m\u001b[38;5;124;43mm2.c4m8\u001b[39;49m\u001b[38;5;124;43m'\u001b[39;49m\u001b[43m,\u001b[49m\n\u001b[1;32m      7\u001b[0m \u001b[43m    \u001b[49m\u001b[43mtrain_instance_count\u001b[49m\u001b[38;5;241;43m=\u001b[39;49m\u001b[38;5;241;43m1\u001b[39;49m\u001b[43m,\u001b[49m\u001b[43m \u001b[49m\n\u001b[1;32m      8\u001b[0m \u001b[43m    \u001b[49m\u001b[43mdata_storage_size\u001b[49m\u001b[38;5;241;43m=\u001b[39;49m\u001b[38;5;241;43m300\u001b[39;49m\u001b[43m,\u001b[49m\u001b[43m  \u001b[49m\u001b[38;5;66;43;03m# 최소값 300G ~ 최대 10000G\u001b[39;49;00m\n\u001b[1;32m      9\u001b[0m \u001b[43m    \u001b[49m\u001b[43msource_dir_uri\u001b[49m\u001b[38;5;241;43m=\u001b[39;49m\u001b[43mobs_src_path\u001b[49m\u001b[43m,\u001b[49m\n\u001b[1;32m     10\u001b[0m \u001b[43m    \u001b[49m\u001b[43mentry_point\u001b[49m\u001b[38;5;241;43m=\u001b[39;49m\u001b[38;5;124;43m'\u001b[39;49m\u001b[38;5;124;43mmnistfashion.py\u001b[39;49m\u001b[38;5;124;43m'\u001b[39;49m\u001b[43m,\u001b[49m\n\u001b[1;32m     11\u001b[0m \u001b[43m    \u001b[49m\u001b[43mhyperparameter_list\u001b[49m\u001b[38;5;241;43m=\u001b[39;49m\u001b[43m[\u001b[49m\u001b[43m  \u001b[49m\u001b[38;5;66;43;03m# 최대 10개 (학습 코드상에서 아래 지정한 채널 name으로 사용할 데이터 지정)\u001b[39;49;00m\n\u001b[1;32m     12\u001b[0m \u001b[43m        \u001b[49m\u001b[43m{\u001b[49m\n\u001b[1;32m     13\u001b[0m \u001b[43m            \u001b[49m\u001b[38;5;124;43m\"\u001b[39;49m\u001b[38;5;124;43mhyperparameterKey\u001b[39;49m\u001b[38;5;124;43m\"\u001b[39;49m\u001b[43m:\u001b[49m\u001b[43m \u001b[49m\u001b[38;5;124;43m\"\u001b[39;49m\u001b[38;5;124;43mepochs\u001b[39;49m\u001b[38;5;124;43m\"\u001b[39;49m\u001b[43m,\u001b[49m\n\u001b[1;32m     14\u001b[0m \u001b[43m            \u001b[49m\u001b[38;5;124;43m\"\u001b[39;49m\u001b[38;5;124;43mhyperparameterValue\u001b[39;49m\u001b[38;5;124;43m\"\u001b[39;49m\u001b[43m:\u001b[49m\u001b[43m \u001b[49m\u001b[38;5;124;43m\"\u001b[39;49m\u001b[38;5;124;43m2\u001b[39;49m\u001b[38;5;124;43m\"\u001b[39;49m\u001b[43m,\u001b[49m\n\u001b[1;32m     15\u001b[0m \u001b[43m        \u001b[49m\u001b[43m}\u001b[49m\u001b[43m,\u001b[49m\n\u001b[1;32m     16\u001b[0m \u001b[43m        \u001b[49m\u001b[43m{\u001b[49m\n\u001b[1;32m     17\u001b[0m \u001b[43m            \u001b[49m\u001b[38;5;124;43m\"\u001b[39;49m\u001b[38;5;124;43mhyperparameterKey\u001b[39;49m\u001b[38;5;124;43m\"\u001b[39;49m\u001b[43m:\u001b[49m\u001b[43m \u001b[49m\u001b[38;5;124;43m\"\u001b[39;49m\u001b[38;5;124;43mbatch-size\u001b[39;49m\u001b[38;5;124;43m\"\u001b[39;49m\u001b[43m,\u001b[49m\n\u001b[1;32m     18\u001b[0m \u001b[43m            \u001b[49m\u001b[38;5;124;43m\"\u001b[39;49m\u001b[38;5;124;43mhyperparameterValue\u001b[39;49m\u001b[38;5;124;43m\"\u001b[39;49m\u001b[43m:\u001b[49m\u001b[43m \u001b[49m\u001b[38;5;124;43m\"\u001b[39;49m\u001b[38;5;124;43m30\u001b[39;49m\u001b[38;5;124;43m\"\u001b[39;49m\u001b[43m,\u001b[49m\n\u001b[1;32m     19\u001b[0m \u001b[43m        \u001b[49m\u001b[43m}\u001b[49m\n\u001b[1;32m     20\u001b[0m \u001b[43m    \u001b[49m\u001b[43m]\u001b[49m\u001b[43m,\u001b[49m\n\u001b[1;32m     21\u001b[0m \u001b[43m    \u001b[49m\u001b[43mtimeout_hours\u001b[49m\u001b[38;5;241;43m=\u001b[39;49m\u001b[38;5;241;43m1\u001b[39;49m\u001b[43m,\u001b[49m\n\u001b[1;32m     22\u001b[0m \u001b[43m    \u001b[49m\u001b[43mmodel_upload_uri\u001b[49m\u001b[38;5;241;43m=\u001b[39;49m\u001b[38;5;124;43m'\u001b[39;49m\u001b[38;5;124;43mobs://api-storage.cloud.toast.com/v1/AUTH_4f212de6f9504c769170aa6c8ea6d937/sdk/output\u001b[39;49m\u001b[38;5;124;43m'\u001b[39;49m\u001b[43m,\u001b[49m\n\u001b[1;32m     23\u001b[0m \u001b[43m    \u001b[49m\u001b[43mcheck_point_upload_uri\u001b[49m\u001b[38;5;241;43m=\u001b[39;49m\u001b[38;5;124;43m'\u001b[39;49m\u001b[38;5;124;43mobs://api-storage.cloud.toast.com/v1/AUTH_4f212de6f9504c769170aa6c8ea6d937/sdk/checkpoint\u001b[39;49m\u001b[38;5;124;43m'\u001b[39;49m\u001b[43m,\u001b[49m\n\u001b[1;32m     24\u001b[0m \u001b[43m    \u001b[49m\u001b[43mtraining_type_code\u001b[49m\u001b[38;5;241;43m=\u001b[39;49m\u001b[38;5;124;43m'\u001b[39;49m\u001b[38;5;124;43mNORMAL\u001b[39;49m\u001b[38;5;124;43m'\u001b[39;49m\u001b[43m,\u001b[49m\n\u001b[1;32m     25\u001b[0m \u001b[43m    \u001b[49m\u001b[43mdataset_list\u001b[49m\u001b[38;5;241;43m=\u001b[39;49m\u001b[43m[\u001b[49m\u001b[43m  \u001b[49m\u001b[38;5;66;43;03m# 최대 10개 (학습 코드상에서 아래 지정한 채널 name으로 사용할 데이터 지정)\u001b[39;49;00m\n\u001b[1;32m     26\u001b[0m \n\u001b[1;32m     27\u001b[0m \u001b[43m    \u001b[49m\u001b[43m]\u001b[49m\u001b[43m,\u001b[49m\n\u001b[1;32m     28\u001b[0m \u001b[43m    \u001b[49m\u001b[43mtag_list\u001b[49m\u001b[38;5;241;43m=\u001b[39;49m\u001b[43m[\u001b[49m\u001b[43m  \u001b[49m\u001b[38;5;66;43;03m# 최대 10개\u001b[39;49;00m\n\u001b[1;32m     29\u001b[0m \u001b[43m        \u001b[49m\u001b[43m{\u001b[49m\n\u001b[1;32m     30\u001b[0m \u001b[43m            \u001b[49m\u001b[38;5;124;43m\"\u001b[39;49m\u001b[38;5;124;43mtagKey\u001b[39;49m\u001b[38;5;124;43m\"\u001b[39;49m\u001b[43m:\u001b[49m\u001b[43m \u001b[49m\u001b[38;5;124;43m\"\u001b[39;49m\u001b[38;5;124;43mtag1\u001b[39;49m\u001b[38;5;124;43m\"\u001b[39;49m\u001b[43m,\u001b[49m\n\u001b[1;32m     31\u001b[0m \u001b[43m            \u001b[49m\u001b[38;5;124;43m\"\u001b[39;49m\u001b[38;5;124;43mtagValue\u001b[39;49m\u001b[38;5;124;43m\"\u001b[39;49m\u001b[43m:\u001b[49m\u001b[43m \u001b[49m\u001b[38;5;124;43m\"\u001b[39;49m\u001b[38;5;124;43mtest_tag_1\u001b[39;49m\u001b[38;5;124;43m\"\u001b[39;49m\u001b[43m,\u001b[49m\n\u001b[1;32m     32\u001b[0m \u001b[43m        \u001b[49m\u001b[43m}\u001b[49m\u001b[43m,\u001b[49m\n\u001b[1;32m     33\u001b[0m \u001b[43m        \u001b[49m\u001b[43m{\u001b[49m\n\u001b[1;32m     34\u001b[0m \u001b[43m            \u001b[49m\u001b[38;5;124;43m\"\u001b[39;49m\u001b[38;5;124;43mtagKey\u001b[39;49m\u001b[38;5;124;43m\"\u001b[39;49m\u001b[43m:\u001b[49m\u001b[43m \u001b[49m\u001b[38;5;124;43m\"\u001b[39;49m\u001b[38;5;124;43mtag2\u001b[39;49m\u001b[38;5;124;43m\"\u001b[39;49m\u001b[43m,\u001b[49m\n\u001b[1;32m     35\u001b[0m \u001b[43m            \u001b[49m\u001b[38;5;124;43m\"\u001b[39;49m\u001b[38;5;124;43mtagValue\u001b[39;49m\u001b[38;5;124;43m\"\u001b[39;49m\u001b[43m:\u001b[49m\u001b[43m \u001b[49m\u001b[38;5;124;43m\"\u001b[39;49m\u001b[38;5;124;43mtest_tag_2\u001b[39;49m\u001b[38;5;124;43m\"\u001b[39;49m\u001b[43m,\u001b[49m\n\u001b[1;32m     36\u001b[0m \u001b[43m        \u001b[49m\u001b[43m}\u001b[49m\n\u001b[1;32m     37\u001b[0m \u001b[43m    \u001b[49m\u001b[43m]\u001b[49m\u001b[43m,\u001b[49m\n\u001b[1;32m     38\u001b[0m \u001b[43m    \u001b[49m\u001b[38;5;66;43;03m# wait=False\u001b[39;49;00m\n\u001b[1;32m     39\u001b[0m \u001b[43m)\u001b[49m\n",
      "File \u001b[0;32m/opt/miniconda3/lib/python3.8/site-packages/easymaker/training/job.py:69\u001b[0m, in \u001b[0;36mTrainingJob.run\u001b[0;34m(self, training_name, training_description, train_image_name, experiment_name, train_flavor_name, train_instance_count, data_storage_size, source_dir_uri, entry_point, hyperparameter_list, dataset_list, check_point_upload_uri, model_upload_uri, training_type_code, timeout_hours, tag_list, wait)\u001b[0m\n\u001b[1;32m     67\u001b[0m         training_status \u001b[38;5;241m=\u001b[39m training[\u001b[38;5;124m'\u001b[39m\u001b[38;5;124mtraining\u001b[39m\u001b[38;5;124m'\u001b[39m][\u001b[38;5;124m'\u001b[39m\u001b[38;5;124mtrainingStatusCode\u001b[39m\u001b[38;5;124m'\u001b[39m]\n\u001b[1;32m     68\u001b[0m         \u001b[38;5;28;01mif\u001b[39;00m \u001b[38;5;124m'\u001b[39m\u001b[38;5;124mFAILED_\u001b[39m\u001b[38;5;124m'\u001b[39m \u001b[38;5;129;01min\u001b[39;00m training_status \u001b[38;5;129;01mor\u001b[39;00m \u001b[38;5;124m'\u001b[39m\u001b[38;5;124mSTOPPED\u001b[39m\u001b[38;5;124m'\u001b[39m \u001b[38;5;129;01min\u001b[39;00m training_status:\n\u001b[0;32m---> 69\u001b[0m             \u001b[38;5;28;01mraise\u001b[39;00m exceptions\u001b[38;5;241m.\u001b[39mEasyMakerError(training)\n\u001b[1;32m     71\u001b[0m \u001b[38;5;28mprint\u001b[39m(\u001b[38;5;124mf\u001b[39m\u001b[38;5;124m'\u001b[39m\u001b[38;5;124mEasyMaker Training Id : \u001b[39m\u001b[38;5;132;01m{\u001b[39;00mtraining_id\u001b[38;5;132;01m}\u001b[39;00m\u001b[38;5;124m'\u001b[39m)\n\u001b[1;32m     72\u001b[0m \u001b[38;5;28;01mreturn\u001b[39;00m model\u001b[38;5;241m.\u001b[39mModel(training_id)\n",
      "\u001b[0;31mEasyMakerError\u001b[0m: {'header': {'isSuccessful': True, 'resultCode': 0, 'resultMessage': 'SUCCESS'}, 'training': {'trainingId': 'ap449e27lhsk', 'appKey': 'fzKXry9rwLAorzbv', 'trainingName': 'sdk_training_2', 'trainingStatusCode': 'FAILED_TO_TRAIN', 'instanceCount': 1, 'sourceDirUri': 'obs://api-storage.cloud.toast.com/v1/AUTH_4f212de6f9504c769170aa6c8ea6d937/sdk/src', 'modelUploadUri': 'obs://api-storage.cloud.toast.com/v1/AUTH_4f212de6f9504c769170aa6c8ea6d937/sdk/output', 'checkPointUploadUri': 'obs://api-storage.cloud.toast.com/v1/AUTH_4f212de6f9504c769170aa6c8ea6d937/sdk/checkpoint', 'entryPoint': 'mnistfashion.py', 'timeoutMinutes': 60, 'elapsedTimeSeconds': 1062, 'experiment': {'experimentId': 'krnrn0742gkh', 'appKey': 'fzKXry9rwLAorzbv', 'experimentName': 'experiment_sdk', 'description': 'experiment_sdk', 'experimentStatusCode': 'ACTIVE', 'createdDateTime': '2022-09-27T16:45:01+09:00', 'updatedDateTime': '2022-09-27T16:52:38+09:00'}, 'hyperparameterList': [{'hyperparameterKey': 'batch-size', 'hyperparameterValue': '30'}, {'hyperparameterKey': 'epochs', 'hyperparameterValue': '2'}], 'datasetList': [], 'createdDateTime': '2022-09-29T10:41:37+09:00', 'updatedDateTime': '2022-09-29T11:00:44+09:00', 'availabilityZone': 'kr-pub-a', 'flavor': {'id': 'edc79d63-98c3-4b77-a2d4-482d70e6b554', 'name': 'm2.c4m8', 'subTypeName': 'm2', 'flavorType': 'general', 'groupName': 'Standard', 'vcpus': 4, 'ram': 8192, 'disk': 0}, 'image': {'imageId': 'g7sbd9isk3hs', 'imageName': 'Ubuntu 18.04 CPU TensorFlow Training', 'imageTypeCode': 'PUBLIC', 'coreTypeCode': 'CPU', 'frameworkCode': 'TENSORFLOW', 'frameworkVersion': '2.4.1', 'pythonVersion': '3.8', 'groupTypeCode': 'TRAINING', 'imageUrl': '47a6bb45-kr1-registry.container.nhncloud.com/easymaker/tensorflow-train:2.4.1-cpu-py38-ubuntu1804-1.0', 'description': 'v1 CPU', 'createdDateTime': '2022-09-16T00:00:00+09:00', 'updatedDateTime': '2022-09-16T00:00:00+09:00'}, 'bootStorage': {'appKey': 'fzKXry9rwLAorzbv', 'storageSize': 60, 'groupTypeCode': 'TRAINING', 'groupId': 'ap449e27lhsk'}, 'dataStorageList': [{'appKey': 'fzKXry9rwLAorzbv', 'storageSize': 300, 'groupTypeCode': 'TRAINING', 'groupId': 'ap449e27lhsk'}], 'tagList': [{'appKey': 'fzKXry9rwLAorzbv', 'groupTypeCode': 'TRAINING', 'groupId': 'ap449e27lhsk', 'tagKey': 'tag1', 'tagValue': 'test_tag_1'}, {'appKey': 'fzKXry9rwLAorzbv', 'groupTypeCode': 'TRAINING', 'groupId': 'ap449e27lhsk', 'tagKey': 'tag2', 'tagValue': 'test_tag_2'}], 'modelList': []}}"
     ]
    }
   ],
   "source": [
    "model = easymaker.TrainingJob().run(\n",
    "    training_name='sdk_training_2',\n",
    "    training_description='easymaker sdk test training',\n",
    "    experiment_name= exper_name,\n",
    "    train_image_name='Ubuntu 18.04 CPU TensorFlow Training',\n",
    "    train_flavor_name='m2.c4m8',\n",
    "    train_instance_count=1, \n",
    "    data_storage_size=300,  # 최소값 300G ~ 최대 10000G\n",
    "    source_dir_uri=obs_src_path,\n",
    "    entry_point='mnistfashion.py',\n",
    "    hyperparameter_list=[  # 최대 10개 (학습 코드상에서 아래 지정한 채널 name으로 사용할 데이터 지정)\n",
    "        {\n",
    "            \"hyperparameterKey\": \"epochs\",\n",
    "            \"hyperparameterValue\": \"2\",\n",
    "        },\n",
    "        {\n",
    "            \"hyperparameterKey\": \"batch-size\",\n",
    "            \"hyperparameterValue\": \"30\",\n",
    "        }\n",
    "    ],\n",
    "    timeout_hours=1,\n",
    "    model_upload_uri='obs://api-storage.cloud.toast.com/v1/AUTH_4f212de6f9504c769170aa6c8ea6d937/sdk/output',\n",
    "    check_point_upload_uri='obs://api-storage.cloud.toast.com/v1/AUTH_4f212de6f9504c769170aa6c8ea6d937/sdk/checkpoint',\n",
    "    training_type_code='NORMAL',\n",
    "    dataset_list=[  # 최대 10개 (학습 코드상에서 아래 지정한 채널 name으로 사용할 데이터 지정)\n",
    "\n",
    "    ],\n",
    "    tag_list=[  # 최대 10개\n",
    "        {\n",
    "            \"tagKey\": \"tag1\",\n",
    "            \"tagValue\": \"test_tag_1\",\n",
    "        },\n",
    "        {\n",
    "            \"tagKey\": \"tag2\",\n",
    "            \"tagValue\": \"test_tag_2\",\n",
    "        }\n",
    "    ],\n",
    "    # wait=False\n",
    ")"
   ]
  },
  {
   "cell_type": "markdown",
   "id": "7bd66ccf-dd0e-4ef4-8bb5-dbef27b2fa0a",
   "metadata": {},
   "source": [
    "## 모델 생성\n",
    "위의 학습이 성공하면, 응답으로 받은 모델정보로 모델을 생성한다.\n",
    "\n",
    " + 기존 학습에서 생성 방법 \n",
    "model = easymaker.training.model.Model(\"학습ID\")"
   ]
  },
  {
   "cell_type": "code",
   "execution_count": null,
   "id": "74b73978-3bd5-4b7e-8faa-c0ba159dea13",
   "metadata": {},
   "outputs": [],
   "source": [
    "model.create(\n",
    "    model_name='model_create_sdk',\n",
    "    model_description='test model',\n",
    "    tag_list=[  # 최대 10개\n",
    "        {\n",
    "            \"tagKey\": \"sdk\",\n",
    "            \"tagValue\": \"true\",\n",
    "        }\n",
    "    ]\n",
    ")"
   ]
  },
  {
   "cell_type": "markdown",
   "id": "ea60e717-a583-4e72-bbf3-2ec70dd69440",
   "metadata": {},
   "source": [
    "## 엔드포인트 배포\n",
    "모델 생성 성공 시 해당 객체에서 배포한다.\n",
    "\n",
    "+ 기존 학습, 모델에서 배포시 하고 싶을 때는 아래 코드 수행 후 deploy 수행\n",
    "model = easymaker.training.model.Model('학습ID')\n",
    "model.model_id = '모델ID'"
   ]
  },
  {
   "cell_type": "code",
   "execution_count": null,
   "id": "91b183f7-99d9-4dab-b09f-661abebd37e8",
   "metadata": {},
   "outputs": [],
   "source": [
    "endpoint = model.deploy(\n",
    "    endpoint_name='endpoint_sdk',\n",
    "    endpoint_description='test endpoint',\n",
    "    flavor_id='57865308-7e1f-4931-aaea-1c36eb053900',\n",
    "    resource_uri='/testapi1'\n",
    "    # wait=False\n",
    ")\n"
   ]
  },
  {
   "cell_type": "code",
   "execution_count": null,
   "id": "fc1c3400-0a4a-452a-ae5f-ee7677b31c19",
   "metadata": {},
   "outputs": [],
   "source": []
  }
 ],
 "metadata": {
  "kernelspec": {
   "display_name": "Python 3 (ipykernel)",
   "language": "python",
   "name": "python3"
  },
  "language_info": {
   "codemirror_mode": {
    "name": "ipython",
    "version": 3
   },
   "file_extension": ".py",
   "mimetype": "text/x-python",
   "name": "python",
   "nbconvert_exporter": "python",
   "pygments_lexer": "ipython3",
   "version": "3.8.10"
  }
 },
 "nbformat": 4,
 "nbformat_minor": 5
}
